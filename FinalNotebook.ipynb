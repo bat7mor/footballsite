{
 "metadata": {
  "name": "",
  "signature": "sha256:afa70c313635dbe24a3d1065787d1790ddaca2170a05fefb754311e52f96f3c4"
 },
 "nbformat": 3,
 "nbformat_minor": 0,
 "worksheets": [
  {
   "cells": [
    {
     "cell_type": "code",
     "collapsed": false,
     "input": [
      "#Start with Project Overview. Discussion of motivations and why sports betting\n",
      "#Take what we have from the proposal\n",
      "#Can we beat the spread? \n"
     ],
     "language": "python",
     "metadata": {},
     "outputs": []
    },
    {
     "cell_type": "code",
     "collapsed": false,
     "input": [
      "#Data wrangling\n",
      "#found a really good data set\n",
      "#create a bunch of variables from existing variables\n",
      "##code##"
     ],
     "language": "python",
     "metadata": {},
     "outputs": []
    },
    {
     "cell_type": "code",
     "collapsed": false,
     "input": [
      "# wanted 2014 data. found a github prject that we utilized and modified to get the dataset\n",
      "# we wanted.\n",
      "##code##"
     ],
     "language": "python",
     "metadata": {},
     "outputs": []
    },
    {
     "cell_type": "code",
     "collapsed": false,
     "input": [
      "# stuff we did to munipulate data\n",
      "# week, moving averages, etc\n",
      "##code##"
     ],
     "language": "python",
     "metadata": {},
     "outputs": []
    },
    {
     "cell_type": "code",
     "collapsed": false,
     "input": [
      "# exploratory analysis\n",
      "# lines in the 80's\n",
      "# get narrative going. say the spread is accurate, predicts 65% of games. that is our goal and what\n",
      "#we are trying to do\n",
      "##code##"
     ],
     "language": "python",
     "metadata": {},
     "outputs": []
    },
    {
     "cell_type": "code",
     "collapsed": false,
     "input": [
      "# predictive models\n",
      "# start with Greg's model\n",
      "# use previous games to try and predict the next game\n",
      "# what did we learn from Greg's model?\n",
      "# Use BettingStrategy. Say we did almost as well as the line spread and then we tried the line\n",
      "# displays a market mentality\n",
      "# use some variables to try and find some sort of market inefficiency that can be exploited. \n",
      "# is there some sort of strategy?\n",
      "##code##"
     ],
     "language": "python",
     "metadata": {},
     "outputs": []
    },
    {
     "cell_type": "code",
     "collapsed": false,
     "input": [
      "# Summary\n",
      "# From exploratory analysis:\n",
      "# Pass Yds per attempt and rushing yards per attempt most important. Efficiency with possession.\n",
      "# Home teams have a better chance of beating the line\n",
      "# From Greg's model:\n",
      "# moving average of score was most predictive than any other combination of statistics.\n",
      "# Passing yards per attempt was something that did not change as much. Still predictive but not as\n",
      "# predictive as scored\n",
      "# Other model:\n",
      "# Spread is really good at splitting the result 50/50. Resembles an efficient market\n",
      "# can see the efficiency in the market overtime. Home team underdog was a strategy in the 80's. \n",
      "# Became more efficient overtime\n",
      "# spread error represented a normal distribution centered at 0. Mathematically can say the spread\n",
      "# is relatively accurate\n",
      "# proportion of games won based on the spread has increased slightly overtime???\n",
      "# betting strategy that exploited the market, as there are some inefficiencies\n",
      "# strategy: if there is a huge underdog with a large point spread, the public tends to pick the favorite\n",
      "# and gives more points to the underdog. Betting on the underdog with large closing lines can have a\n",
      "# large chance of higher betting winning percentages\n",
      "# some herd behavior in NFL sports betting market\n",
      "##code##"
     ],
     "language": "python",
     "metadata": {},
     "outputs": []
    },
    {
     "cell_type": "code",
     "collapsed": false,
     "input": [],
     "language": "python",
     "metadata": {},
     "outputs": []
    }
   ],
   "metadata": {}
  }
 ]
}